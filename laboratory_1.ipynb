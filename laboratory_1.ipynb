{
 "cells": [
  {
   "cell_type": "code",
   "execution_count": 1,
   "metadata": {},
   "outputs": [],
   "source": [
    "import numpy as np\n",
    "from typing import List\n",
    "from pprint import pprint as pp"
   ]
  },
  {
   "cell_type": "markdown",
   "metadata": {},
   "source": [
    "# Laboratorium 1 \n",
    "\n",
    "Zasada działania neuronu oraz budowa prostej sieci neuronowej"
   ]
  },
  {
   "cell_type": "markdown",
   "metadata": {},
   "source": [
    "## Zadanie 1\n",
    "\n",
    "Implementacja funkcji neuron której zadaniem jest obliczenie odpowiedzi pojedynczego neuronu.\n",
    "\n",
    "Funkcja powinna przyjmować trzy parametry: **input**, **weights**, **bias**"
   ]
  },
  {
   "cell_type": "code",
   "execution_count": 2,
   "metadata": {},
   "outputs": [
    {
     "name": "stdout",
     "output_type": "stream",
     "text": [
      "Input data:\n",
      "[[0.5 ]\n",
      " [0.75]\n",
      " [0.1 ]\n",
      " [0.4 ]\n",
      " [0.9 ]]\n",
      "\n",
      "Weights:\n",
      "[ 0.1  0.1 -0.3  0.5  0.1]\n",
      "\n",
      "Result:\n",
      "[0.385]\n"
     ]
    }
   ],
   "source": [
    "def neuron(input_data=[], weights=[], bias=0):\n",
    "    return weights.dot(input_data) + bias\n",
    "\n",
    "input_data = np.array([[0.5], [0.75], [0.1], [0.4], [0.9]])\n",
    "weights = np.array([0.1, 0.1, -0.3, 0.5, 0.1])\n",
    "\n",
    "print(f\"Input data:\\n{input_data}\\n\")\n",
    "print(f\"Weights:\\n{weights}\\n\")\n",
    "print(f\"Result:\\n{neuron(input_data, weights)}\")"
   ]
  },
  {
   "cell_type": "markdown",
   "metadata": {},
   "source": [
    "## Zadanie 2\n",
    "\n",
    "Implementacja prostej sieci neuronowej, która na wejściu otrzyma **wektor wartości wejściowych** oraz **macierz wag**.\n",
    "\n",
    "Funkcja powinna zwrócić wektor z wartoścami dla poszczególnych neuronów."
   ]
  },
  {
   "cell_type": "code",
   "execution_count": 3,
   "metadata": {},
   "outputs": [
    {
     "name": "stdout",
     "output_type": "stream",
     "text": [
      "Input data:\n",
      "[[0.5 ]\n",
      " [0.75]\n",
      " [0.1 ]]\n",
      "\n",
      "Weights:\n",
      "[[ 0.1  0.1 -0.3]\n",
      " [ 0.1  0.2  0. ]\n",
      " [ 0.   0.7  0.1]\n",
      " [ 0.2  0.4  0. ]\n",
      " [-0.3  0.5  0.1]]\n",
      "\n",
      "Result:\n",
      "[[0.095]\n",
      " [0.2  ]\n",
      " [0.535]\n",
      " [0.4  ]\n",
      " [0.235]]\n"
     ]
    }
   ],
   "source": [
    "class NeuralNetwork():\n",
    "    def __init__(self, input_data=[], weights=[]):\n",
    "        self.input_data = input_data\n",
    "        self.weights = weights\n",
    "        \n",
    "    def calcualte_network(self):\n",
    "        return self.weights.dot(self.input_data)\n",
    "    \n",
    "input_data = np.array([[0.5], [0.75], [0.1]])\n",
    "weights = np.array([[0.1, 0.1, -0.3],[0.1, 0.2, 0.0],[0.0, 0.7, 0.1],[0.2, 0.4, 0.0],[-0.3, 0.5, 0.1]])\n",
    "network = NeuralNetwork(input_data, weights)\n",
    "\n",
    "print(f\"Input data:\\n{input_data}\\n\")\n",
    "print(f\"Weights:\\n{weights}\\n\")\n",
    "print(f\"Result:\\n{network.calcualte_network()}\")"
   ]
  },
  {
   "cell_type": "markdown",
   "metadata": {},
   "source": [
    "## Zadanie 3\n",
    "\n",
    "Implementacja głębokiej sieci neuronowej, która na wejściu otrzyma **wektor wartości wejściowych** oraz **listę macierzy wag** (wagi dla każdego neuronu w każdej warstwie).\n",
    "\n",
    "Funkcja powinna zwrócić wektor z wartościami poszczególnych neuronów warstwy wyjściowej."
   ]
  },
  {
   "cell_type": "code",
   "execution_count": 4,
   "metadata": {},
   "outputs": [
    {
     "name": "stdout",
     "output_type": "stream",
     "text": [
      "Input data:\n",
      "[[0.5 ]\n",
      " [0.75]\n",
      " [0.1 ]]\n",
      "\n",
      "Hidden layer weights:\n",
      "[[ 0.1  0.1 -0.3]\n",
      " [ 0.1  0.2  0. ]\n",
      " [ 0.   0.7  0.1]\n",
      " [ 0.2  0.4  0. ]\n",
      " [-0.3  0.5  0.1]]\n",
      "\n",
      "Output layer weights:\n",
      "[[ 0.7  0.9 -0.4  0.8  0.1]\n",
      " [ 0.8  0.5  0.3  0.1  0. ]\n",
      " [-0.3  0.9  0.3  0.1 -0.2]]\n",
      "\n",
      "Result:\n",
      "[[0.376 ]\n",
      " [0.3765]\n",
      " [0.305 ]]\n"
     ]
    }
   ],
   "source": [
    "class DeepNeuralNetwork():\n",
    "    def __init__(self, input_data=[], weights=[]):\n",
    "        self.input_data = input_data\n",
    "        self.weights = weights\n",
    "        self.layer_idx = 0\n",
    "        self.num_of_layers = len(self.weights) - 1\n",
    "        \n",
    "    def calcualte_deep_network(self):\n",
    "        def calcualte_layer(input_data, weights):\n",
    "            self.input_data = weights.dot(self.input_data)\n",
    "            self.layer_idx += 1\n",
    "            return self.input_data\n",
    "        while True:\n",
    "            if self.layer_idx == self.num_of_layers:\n",
    "                return calcualte_layer(self.input_data, self.weights[self.layer_idx])\n",
    "            else:\n",
    "                calcualte_layer(self.input_data, self.weights[self.layer_idx])\n",
    "    \n",
    "input_data = np.array([[0.5], [0.75], [0.1]])\n",
    "weights_hidden = np.array([[0.1, 0.1, -0.3],[0.1, 0.2, 0.0],[0.0, 0.7, 0.1],[0.2, 0.4, 0.0],[-0.3, 0.5, 0.1]])\n",
    "weights_output = np.array([[0.7, 0.9, -0.4, 0.8, 0.1],[0.8, 0.5, 0.3, 0.1, 0.0],[-0.3, 0.9, 0.3, 0.1, -0.2]])\n",
    "deep_network = DeepNeuralNetwork(input_data, [weights_hidden, weights_output])\n",
    "\n",
    "print(f\"Input data:\\n{input_data}\\n\")\n",
    "print(f\"Hidden layer weights:\\n{weights_hidden}\\n\")\n",
    "print(f\"Output layer weights:\\n{weights_output}\\n\")\n",
    "print(f\"Result:\\n{deep_network.calcualte_deep_network()}\")"
   ]
  },
  {
   "cell_type": "markdown",
   "metadata": {},
   "source": [
    "## Zadanie 4\n",
    "\n",
    "Stworzenie API pozwalającego na budowanie sieci składająćej się z warstw w pełni połączonych. Zaimplementowane rozwiązanie ma umożliwić budowanie sieci o dowolnej liczbie neuronów wejściowych oraz wyjściowych, dowolnej liczbie warstw ukrytych z dowolną liczbą neuronów. W początkwoej fazie działania programu poinno nastąpić generowanie losowych wartości wag dla każdej warstwy zbudowanej sieci. \n",
    "\n",
    "Wymagane funkcje:\n",
    "\n",
    "* **add layer(n, [weight min value, weight max value])**\n",
    "\n",
    "* **predict(input)**"
   ]
  },
  {
   "cell_type": "code",
   "execution_count": 5,
   "metadata": {},
   "outputs": [
    {
     "name": "stdout",
     "output_type": "stream",
     "text": [
      "\n",
      "Layer number 0\n",
      "{'input_data': array([[0.5 ],\n",
      "       [0.75],\n",
      "       [0.1 ]]),\n",
      " 'input_dim': 3,\n",
      " 'layer_output': array([[0.79721162],\n",
      "       [0.65167729],\n",
      "       [0.94828858],\n",
      "       [0.46512919],\n",
      "       [0.52547069]]),\n",
      " 'num_of_neurons': 5,\n",
      " 'weights': array([[0.84273562, 0.434969  , 0.49617062],\n",
      "       [0.80888258, 0.28273285, 0.35186366],\n",
      "       [0.53893697, 0.8251621 , 0.59948522],\n",
      "       [0.38683823, 0.29094734, 0.53499568],\n",
      "       [0.79396906, 0.08937986, 0.61451263]])}\n",
      "\n",
      "Layer number 1\n",
      "{'input_data': array([[0.79721162],\n",
      "       [0.65167729],\n",
      "       [0.94828858],\n",
      "       [0.46512919],\n",
      "       [0.52547069]]),\n",
      " 'input_dim': 5,\n",
      " 'layer_output': array([[1.27789756],\n",
      "       [0.82301896],\n",
      "       [2.29955646]]),\n",
      " 'num_of_neurons': 3,\n",
      " 'weights': array([[0.14079751, 0.24181361, 0.18711231, 0.78904704, 0.88229932],\n",
      "       [0.00930031, 0.03207201, 0.25760245, 0.49889897, 0.60587605],\n",
      "       [0.32720886, 0.66616784, 0.84860311, 0.66474514, 0.93375769]])}\n"
     ]
    }
   ],
   "source": [
    "class Layer():\n",
    "    def __init__(self, num_of_neurons, input_dim, weights, weights_range):\n",
    "        self.num_of_neurons = num_of_neurons\n",
    "        self.input_dim = input_dim\n",
    "        self.weights = weights if isinstance(weights, np.ndarray) else self.generate_weights(weights_range)\n",
    "        self.layer_output = None\n",
    "\n",
    "    def generate_weights(self, weights_range):\n",
    "        if weights_range:\n",
    "            return np.random.uniform(low=0.5, high=13.3, size=(self.num_of_neurons,self.input_dim))\n",
    "        else:\n",
    "            return np.random.uniform(size=(self.num_of_neurons,self.input_dim))\n",
    "        \n",
    "    def calculate_output(self, input_data):\n",
    "        self.input_data = input_data\n",
    "        self.layer_output = self.weights.dot(self.input_data)\n",
    "        return self.layer_output\n",
    "\n",
    "\n",
    "class LayerIterator():\n",
    "    def __init__(self, layers: List[Layer]):\n",
    "        self.__layers_iterator = iter(layers)\n",
    "        self.__position = 0 \n",
    "        self.__num_of_layers = len(layers)\n",
    "        \n",
    "    def __next__(self):\n",
    "        while True:\n",
    "            if self.__position < self.__num_of_layers:\n",
    "                self.__position += 1\n",
    "                return next(self.__layers_iterator)\n",
    "            raise StopIteration()\n",
    "    \n",
    "    \n",
    "class DeepNeuralNetwork():\n",
    "    def __init__(self, input_len):\n",
    "        self._layers = []\n",
    "        self.last_layer_neurons = input_len\n",
    "    \n",
    "    def add_layer(self, num_of_neurons, weights=None, weights_range=None):\n",
    "        self._layers.append(Layer(num_of_neurons, self.last_layer_neurons, weights, weights_range))\n",
    "        self.last_layer_neurons = num_of_neurons\n",
    "    \n",
    "    def predict(self, input_data=[]):\n",
    "        for layer in self._layers:\n",
    "            input_data = layer.calculate_output(input_data)\n",
    "\n",
    "    def __iter__(self):\n",
    "        return LayerIterator(self._layers)\n",
    "\n",
    "input_data = np.array([[0.5], [0.75], [0.1]])\n",
    "\n",
    "deep_neural_network = DeepNeuralNetwork(len(input_data))\n",
    "deep_neural_network.add_layer(5)\n",
    "deep_neural_network.add_layer(3)\n",
    "deep_neural_network.predict(input_data)\n",
    "\n",
    "for layer_index, layer in enumerate(deep_neural_network):\n",
    "    print(f\"\\nLayer number {layer_index}\")\n",
    "    pp(layer.__dict__)\n"
   ]
  }
 ],
 "metadata": {
  "kernelspec": {
   "display_name": "Python 3",
   "language": "python",
   "name": "python3"
  },
  "language_info": {
   "codemirror_mode": {
    "name": "ipython",
    "version": 3
   },
   "file_extension": ".py",
   "mimetype": "text/x-python",
   "name": "python",
   "nbconvert_exporter": "python",
   "pygments_lexer": "ipython3",
   "version": "3.8.1"
  }
 },
 "nbformat": 4,
 "nbformat_minor": 4
}
