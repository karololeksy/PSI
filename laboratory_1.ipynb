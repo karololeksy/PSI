{
 "cells": [
  {
   "cell_type": "code",
   "execution_count": 1,
   "metadata": {},
   "outputs": [],
   "source": [
    "import numpy as np"
   ]
  },
  {
   "cell_type": "markdown",
   "metadata": {},
   "source": [
    "# Laboratorium 1 \n",
    "\n",
    "Zasada działa neuronu oraz budowa prostej sieci neuronowe"
   ]
  },
  {
   "cell_type": "markdown",
   "metadata": {},
   "source": [
    "### Zadanie 1\n",
    "\n",
    "Implementacja funkcji neuron której zadaniem jest obliczenie odpowiedzi pojedynczego neuronu.\n",
    "\n",
    "Funkcja powinna przyjmować trzy parametry: **input**, **weights**, **bias**"
   ]
  },
  {
   "cell_type": "code",
   "execution_count": 35,
   "metadata": {},
   "outputs": [
    {
     "name": "stdout",
     "output_type": "stream",
     "text": [
      "Input data:\n",
      "[[0.5 ]\n",
      " [0.75]\n",
      " [0.1 ]\n",
      " [0.4 ]\n",
      " [0.9 ]]\n",
      "\n",
      "Weights:\n",
      "[ 0.1  0.1 -0.3  0.5  0.1]\n",
      "\n",
      "Result:\n",
      "[0.385]\n"
     ]
    }
   ],
   "source": [
    "def neuron(input_data=[], weights=[], bias=0):\n",
    "    return weights.dot(input_data) + bias\n",
    "\n",
    "input_data = np.array([[0.5], [0.75], [0.1], [0.4], [0.9]])\n",
    "weights = np.array([0.1, 0.1, -0.3, 0.5, 0.1])\n",
    "\n",
    "print(f\"Input data:\\n{input_data}\\n\")\n",
    "print(f\"Weights:\\n{weights}\\n\")\n",
    "print(f\"Result:\\n{neuron(input_data, weights)}\")"
   ]
  },
  {
   "cell_type": "markdown",
   "metadata": {},
   "source": [
    "### Zadanie 2\n",
    "\n",
    "Implementacja prostej sieci neuronowej, która na wejściu otrzyma **wektor wartości wejściowych** oraz **macierz wag**.\n",
    "\n",
    "Funkcja powinna zwrócić wektor z wartoścami dla poszczególnych neuronów."
   ]
  },
  {
   "cell_type": "code",
   "execution_count": 37,
   "metadata": {},
   "outputs": [
    {
     "name": "stdout",
     "output_type": "stream",
     "text": [
      "Input data:\n",
      "[[0.5 ]\n",
      " [0.75]\n",
      " [0.1 ]]\n",
      "\n",
      "Weights:\n",
      "[[ 0.1  0.1 -0.3]\n",
      " [ 0.1  0.2  0. ]\n",
      " [ 0.   0.7  0.1]\n",
      " [ 0.2  0.4  0. ]\n",
      " [-0.3  0.5  0.1]]\n",
      "\n",
      "Result:\n",
      "[[0.095]\n",
      " [0.2  ]\n",
      " [0.535]\n",
      " [0.4  ]\n",
      " [0.235]]\n"
     ]
    }
   ],
   "source": [
    "class NeuralNetwork():\n",
    "    def __init__(self, input_data=[], weights=[]):\n",
    "        self.input_data = input_data\n",
    "        self.weights = weights\n",
    "        \n",
    "    def calcualte_network(self):\n",
    "        return self.weights.dot(self.input_data)\n",
    "    \n",
    "input_data = np.array([[0.5], [0.75], [0.1]])\n",
    "weights = np.array([[0.1, 0.1, -0.3],[0.1, 0.2, 0.0],[0.0, 0.7, 0.1],[0.2, 0.4, 0.0],[-0.3, 0.5, 0.1]])\n",
    "network = NeuralNetwork(input_data, weights)\n",
    "\n",
    "print(f\"Input data:\\n{input_data}\\n\")\n",
    "print(f\"Weights:\\n{weights}\\n\")\n",
    "print(f\"Result:\\n{network.calcualte_network()}\")"
   ]
  },
  {
   "cell_type": "markdown",
   "metadata": {},
   "source": [
    "### Zadanie 3\n",
    "\n",
    "Implementacja głębokiej sieci neuronowej, która na wejściu otrzyma **wektor wartości wejściowych** oraz **listę macierzy wag** (wagi dla każdego neuronu w każdej warstwie).\n",
    "\n",
    "Funkcja powinna zwrócić wektor z wartościami poszczególnych neuronów warstwy wyjściowej."
   ]
  },
  {
   "cell_type": "code",
   "execution_count": 57,
   "metadata": {},
   "outputs": [
    {
     "name": "stdout",
     "output_type": "stream",
     "text": [
      "Input data:\n",
      "[[0.5 ]\n",
      " [0.75]\n",
      " [0.1 ]]\n",
      "\n",
      "Hidden layer weights:\n",
      "[[ 0.1  0.1 -0.3]\n",
      " [ 0.1  0.2  0. ]\n",
      " [ 0.   0.7  0.1]\n",
      " [ 0.2  0.4  0. ]\n",
      " [-0.3  0.5  0.1]]\n",
      "\n",
      "Output layer weights:\n",
      "[[ 0.7  0.9 -0.4  0.8  0.1]\n",
      " [ 0.8  0.5  0.3  0.1  0. ]\n",
      " [-0.3  0.9  0.3  0.1 -0.2]]\n",
      "\n",
      "Result:\n",
      "[[0.376 ]\n",
      " [0.3765]\n",
      " [0.305 ]]\n"
     ]
    }
   ],
   "source": [
    "class DeepNeuralNetwork():\n",
    "    def __init__(self, input_data=[], weights=[]):\n",
    "        self.input_data = input_data\n",
    "        self.weights = weights\n",
    "        self.layer_idx = 0\n",
    "        self.num_of_layers = len(self.weights) - 1\n",
    "        \n",
    "    def calcualte_deep_network(self):\n",
    "        def calcualte_layer(input_data, weights):\n",
    "            self.input_data = weights.dot(self.input_data)\n",
    "            self.layer_idx += 1\n",
    "            return self.input_data\n",
    "        while True:\n",
    "            if self.layer_idx == self.num_of_layers:\n",
    "                return calcualte_layer(self.input_data, self.weights[self.layer_idx])\n",
    "            else:\n",
    "                calcualte_layer(self.input_data, self.weights[self.layer_idx])\n",
    "    \n",
    "input_data = np.array([[0.5], [0.75], [0.1]])\n",
    "weights_hidden = np.array([[0.1, 0.1, -0.3],[0.1, 0.2, 0.0],[0.0, 0.7, 0.1],[0.2, 0.4, 0.0],[-0.3, 0.5, 0.1]])\n",
    "weights_output = np.array([[0.7, 0.9, -0.4, 0.8, 0.1],[0.8, 0.5, 0.3, 0.1, 0.0],[-0.3, 0.9, 0.3, 0.1, -0.2]])\n",
    "deep_network = DeepNeuralNetwork(input_data, [weights_hidden, weights_output])\n",
    "\n",
    "print(f\"Input data:\\n{input_data}\\n\")\n",
    "print(f\"Hidden layer weights:\\n{weights_hidden}\\n\")\n",
    "print(f\"Output layer weights:\\n{weights_output}\\n\")\n",
    "print(f\"Result:\\n{deep_network.calcualte_deep_network()}\")"
   ]
  },
  {
   "cell_type": "markdown",
   "metadata": {},
   "source": [
    "### Zadanie 4\n",
    "\n",
    "Stworzenie API pozwalającego na budowanie sieci składająćej się z warstw w pełni połączonych. Zaimplementowane rozwiązanie ma umożliwić budowanie sieci o dowolnej liczbie neuronów wejściowych oraz wyjściowych, dowolnej liczbie warstw ukrytych z dowolną liczbą neuronów. W początkwoej fazie działania programu pwoinno nastąpić henerowanie losowych wartości wag dla każdej warstwy zbudowanej sieci. \n",
    "\n",
    "Wymagane funkcje:\n",
    "\n",
    "* **add layer(n, [weight min value, weight max value])**\n",
    "\n",
    "* **predict(input)**\n",
    "\n",
    "* **load weights(file name)**"
   ]
  },
  {
   "cell_type": "code",
   "execution_count": null,
   "metadata": {},
   "outputs": [],
   "source": [
    "class DeepNeuralNetwork():\n",
    "    def __init__(self):\n",
    "        pass\n",
    "    \n",
    "    def add_layer(self, num_of_neurons, weights_range=None):\n",
    "        pass\n",
    "    \n",
    "    def predict(self, input_data=[]):\n",
    "        pass\n",
    "    \n",
    "    def load_weights(self, num_of_neurons, weights_range):\n",
    "        pass"
   ]
  }
 ],
 "metadata": {
  "kernelspec": {
   "display_name": "Python 3",
   "language": "python",
   "name": "python3"
  },
  "language_info": {
   "codemirror_mode": {
    "name": "ipython",
    "version": 3
   },
   "file_extension": ".py",
   "mimetype": "text/x-python",
   "name": "python",
   "nbconvert_exporter": "python",
   "pygments_lexer": "ipython3",
   "version": "3.8.1"
  }
 },
 "nbformat": 4,
 "nbformat_minor": 4
}
